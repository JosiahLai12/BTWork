{
 "cells": [
  {
   "cell_type": "code",
   "execution_count": 43,
   "id": "abf1e246-6eda-466b-98af-64a81a2f8a65",
   "metadata": {},
   "outputs": [],
   "source": [
    "import pandas as pd\n",
    "from fuzzywuzzy import fuzz\n",
    "from fuzzywuzzy import process"
   ]
  },
  {
   "cell_type": "code",
   "execution_count": 44,
   "id": "863ca951-969d-4ba9-bf8c-604af4079e5a",
   "metadata": {},
   "outputs": [],
   "source": [
    "assets = pd.read_excel('Superfund.xlsx', sheet_name='Assets')\n",
    "gic = pd.read_excel('Superfund.xlsx', sheet_name='StockGics')"
   ]
  },
  {
   "cell_type": "code",
   "execution_count": 45,
   "id": "00f9f6a5-5c93-475d-a5e6-95b9ba6831c4",
   "metadata": {},
   "outputs": [
    {
     "data": {
      "text/plain": [
       "Asset_Name    0\n",
       "dtype: int64"
      ]
     },
     "execution_count": 45,
     "metadata": {},
     "output_type": "execute_result"
    }
   ],
   "source": [
    "assets.dropna(inplace=True)\n",
    "assets.isna().sum()"
   ]
  },
  {
   "cell_type": "code",
   "execution_count": 46,
   "id": "3ecb0cf1-00fb-4492-aaad-8b70ad799a74",
   "metadata": {},
   "outputs": [
    {
     "data": {
      "text/plain": [
       "Stock Ticker       1\n",
       "Company            0\n",
       "GICSCode           0\n",
       "GicSubIndustry     0\n",
       "Exchange Ticker    0\n",
       "Exchange Name      0\n",
       "dtype: int64"
      ]
     },
     "execution_count": 46,
     "metadata": {},
     "output_type": "execute_result"
    }
   ],
   "source": [
    "gic.isna().sum()"
   ]
  },
  {
   "cell_type": "code",
   "execution_count": 47,
   "id": "2b8c3b5c-cd81-47be-8e26-e01738e2aae5",
   "metadata": {},
   "outputs": [],
   "source": [
    "# def find_best_match(asset_name):\n",
    "#     best_match, accuracy_score = process.extractOne(asset_name, gic['Company'], scorer=fuzz.ratio)\n",
    "#     return best_match, accuracy_score, gic.loc[gic['Company'] == best_match, 'GICSCode'].values[0], gic.loc[gic['Company'] == best_match, 'GicSubIndustry'].values[0]"
   ]
  },
  {
   "cell_type": "code",
   "execution_count": 51,
   "id": "e72fec48-60ea-488b-971f-10594f421fa1",
   "metadata": {},
   "outputs": [
    {
     "name": "stdout",
     "output_type": "stream",
     "text": [
      "                           Asset_Name  GICSCode  \\\n",
      "0              MACQUARIE BANK LIMITED  15104020   \n",
      "1            MLC BUILDING SOCIETY LTD  55105010   \n",
      "2     NATIONAL AUSTRALIA BANK LIMITED  40101010   \n",
      "3                      A2 MILK CO LTD  10102050   \n",
      "4                         ALS LIMITED  20202020   \n",
      "..                                ...       ...   \n",
      "281                             DEXUS  60104010   \n",
      "282  DEXUS WHOLESALE PROPERTY LIMITED  60104010   \n",
      "283                     GOODMAN GROUP  60102510   \n",
      "284                   LENDLEASE GROUP  60201010   \n",
      "285   MIRVAC GROUP STAPLED SECURITIES  60101010   \n",
      "\n",
      "                                   GicSubIndustry  \n",
      "0                     Diversified Metals & Mining  \n",
      "1    Independent Power Producers & Energy Traders  \n",
      "2                               Diversified Banks  \n",
      "3                         Coal & Consumable Fuels  \n",
      "4                  Research & Consulting Services  \n",
      "..                                            ...  \n",
      "281                                  Office REITs  \n",
      "282                                  Office REITs  \n",
      "283                              Industrial REITs  \n",
      "284            Diversified Real Estate Activities  \n",
      "285                             Diversified REITs  \n",
      "\n",
      "[275 rows x 3 columns]\n"
     ]
    }
   ],
   "source": [
    "def find_best_match(asset_name):\n",
    "    best_match = process.extractOne(asset_name, gic['Company'])\n",
    "    return best_match[0], gic.loc[gic['Company'] == best_match[0], 'GICSCode'].values[0], gic.loc[gic['Company'] == best_match[0], 'GicSubIndustry'].values[0]\n",
    "\n",
    "# Apply the function to 'Asset_Name' column in the 'assets' DataFrame\n",
    "assets[['BestMatch', 'GICSCode', 'GicSubIndustry']] = assets['Asset_Name'].apply(lambda x: pd.Series(find_best_match(x)))\n",
    "\n",
    "# Drop the 'BestMatch' column if not needed\n",
    "assets.drop('BestMatch', axis=1, inplace=True)\n",
    "\n",
    "# Display the resulting 'assets' DataFrame with GICSCode and GicSubIndustry\n",
    "print(assets)"
   ]
  },
  {
   "cell_type": "code",
   "execution_count": 49,
   "id": "79c38191-0db8-4120-8981-2cff833e9fe6",
   "metadata": {},
   "outputs": [
    {
     "ename": "IndexError",
     "evalue": "index 0 is out of bounds for axis 0 with size 0",
     "output_type": "error",
     "traceback": [
      "\u001b[1;31m---------------------------------------------------------------------------\u001b[0m",
      "\u001b[1;31mIndexError\u001b[0m                                Traceback (most recent call last)",
      "Cell \u001b[1;32mIn[49], line 2\u001b[0m\n\u001b[0;32m      1\u001b[0m \u001b[38;5;66;03m# Apply the function to 'Asset_Name' column in the 'assets' DataFrame\u001b[39;00m\n\u001b[1;32m----> 2\u001b[0m assets[[\u001b[38;5;124m'\u001b[39m\u001b[38;5;124mBestMatch\u001b[39m\u001b[38;5;124m'\u001b[39m, \u001b[38;5;124m'\u001b[39m\u001b[38;5;124mGICSCode\u001b[39m\u001b[38;5;124m'\u001b[39m, \u001b[38;5;124m'\u001b[39m\u001b[38;5;124mGicSubIndustry\u001b[39m\u001b[38;5;124m'\u001b[39m]] \u001b[38;5;241m=\u001b[39m \u001b[43massets\u001b[49m\u001b[43m[\u001b[49m\u001b[38;5;124;43m'\u001b[39;49m\u001b[38;5;124;43mAsset_Name\u001b[39;49m\u001b[38;5;124;43m'\u001b[39;49m\u001b[43m]\u001b[49m\u001b[38;5;241;43m.\u001b[39;49m\u001b[43mapply\u001b[49m\u001b[43m(\u001b[49m\u001b[38;5;28;43;01mlambda\u001b[39;49;00m\u001b[43m \u001b[49m\u001b[43mx\u001b[49m\u001b[43m:\u001b[49m\u001b[43m \u001b[49m\u001b[43mpd\u001b[49m\u001b[38;5;241;43m.\u001b[39;49m\u001b[43mSeries\u001b[49m\u001b[43m(\u001b[49m\u001b[43mfind_best_match\u001b[49m\u001b[43m(\u001b[49m\u001b[43mx\u001b[49m\u001b[43m)\u001b[49m\u001b[43m)\u001b[49m\u001b[43m)\u001b[49m\n\u001b[0;32m      4\u001b[0m \u001b[38;5;66;03m# Drop the 'BestMatch' column if not needed\u001b[39;00m\n\u001b[0;32m      5\u001b[0m assets\u001b[38;5;241m.\u001b[39mdrop(\u001b[38;5;124m'\u001b[39m\u001b[38;5;124mBestMatch\u001b[39m\u001b[38;5;124m'\u001b[39m, axis\u001b[38;5;241m=\u001b[39m\u001b[38;5;241m1\u001b[39m, inplace\u001b[38;5;241m=\u001b[39m\u001b[38;5;28;01mTrue\u001b[39;00m)\n",
      "File \u001b[1;32m~\\anaconda3\\lib\\site-packages\\pandas\\core\\series.py:4771\u001b[0m, in \u001b[0;36mSeries.apply\u001b[1;34m(self, func, convert_dtype, args, **kwargs)\u001b[0m\n\u001b[0;32m   4661\u001b[0m \u001b[38;5;28;01mdef\u001b[39;00m \u001b[38;5;21mapply\u001b[39m(\n\u001b[0;32m   4662\u001b[0m     \u001b[38;5;28mself\u001b[39m,\n\u001b[0;32m   4663\u001b[0m     func: AggFuncType,\n\u001b[1;32m   (...)\u001b[0m\n\u001b[0;32m   4666\u001b[0m     \u001b[38;5;241m*\u001b[39m\u001b[38;5;241m*\u001b[39mkwargs,\n\u001b[0;32m   4667\u001b[0m ) \u001b[38;5;241m-\u001b[39m\u001b[38;5;241m>\u001b[39m DataFrame \u001b[38;5;241m|\u001b[39m Series:\n\u001b[0;32m   4668\u001b[0m     \u001b[38;5;124;03m\"\"\"\u001b[39;00m\n\u001b[0;32m   4669\u001b[0m \u001b[38;5;124;03m    Invoke function on values of Series.\u001b[39;00m\n\u001b[0;32m   4670\u001b[0m \n\u001b[1;32m   (...)\u001b[0m\n\u001b[0;32m   4769\u001b[0m \u001b[38;5;124;03m    dtype: float64\u001b[39;00m\n\u001b[0;32m   4770\u001b[0m \u001b[38;5;124;03m    \"\"\"\u001b[39;00m\n\u001b[1;32m-> 4771\u001b[0m     \u001b[38;5;28;01mreturn\u001b[39;00m \u001b[43mSeriesApply\u001b[49m\u001b[43m(\u001b[49m\u001b[38;5;28;43mself\u001b[39;49m\u001b[43m,\u001b[49m\u001b[43m \u001b[49m\u001b[43mfunc\u001b[49m\u001b[43m,\u001b[49m\u001b[43m \u001b[49m\u001b[43mconvert_dtype\u001b[49m\u001b[43m,\u001b[49m\u001b[43m \u001b[49m\u001b[43margs\u001b[49m\u001b[43m,\u001b[49m\u001b[43m \u001b[49m\u001b[43mkwargs\u001b[49m\u001b[43m)\u001b[49m\u001b[38;5;241;43m.\u001b[39;49m\u001b[43mapply\u001b[49m\u001b[43m(\u001b[49m\u001b[43m)\u001b[49m\n",
      "File \u001b[1;32m~\\anaconda3\\lib\\site-packages\\pandas\\core\\apply.py:1123\u001b[0m, in \u001b[0;36mSeriesApply.apply\u001b[1;34m(self)\u001b[0m\n\u001b[0;32m   1120\u001b[0m     \u001b[38;5;28;01mreturn\u001b[39;00m \u001b[38;5;28mself\u001b[39m\u001b[38;5;241m.\u001b[39mapply_str()\n\u001b[0;32m   1122\u001b[0m \u001b[38;5;66;03m# self.f is Callable\u001b[39;00m\n\u001b[1;32m-> 1123\u001b[0m \u001b[38;5;28;01mreturn\u001b[39;00m \u001b[38;5;28;43mself\u001b[39;49m\u001b[38;5;241;43m.\u001b[39;49m\u001b[43mapply_standard\u001b[49m\u001b[43m(\u001b[49m\u001b[43m)\u001b[49m\n",
      "File \u001b[1;32m~\\anaconda3\\lib\\site-packages\\pandas\\core\\apply.py:1174\u001b[0m, in \u001b[0;36mSeriesApply.apply_standard\u001b[1;34m(self)\u001b[0m\n\u001b[0;32m   1172\u001b[0m     \u001b[38;5;28;01melse\u001b[39;00m:\n\u001b[0;32m   1173\u001b[0m         values \u001b[38;5;241m=\u001b[39m obj\u001b[38;5;241m.\u001b[39mastype(\u001b[38;5;28mobject\u001b[39m)\u001b[38;5;241m.\u001b[39m_values\n\u001b[1;32m-> 1174\u001b[0m         mapped \u001b[38;5;241m=\u001b[39m \u001b[43mlib\u001b[49m\u001b[38;5;241;43m.\u001b[39;49m\u001b[43mmap_infer\u001b[49m\u001b[43m(\u001b[49m\n\u001b[0;32m   1175\u001b[0m \u001b[43m            \u001b[49m\u001b[43mvalues\u001b[49m\u001b[43m,\u001b[49m\n\u001b[0;32m   1176\u001b[0m \u001b[43m            \u001b[49m\u001b[43mf\u001b[49m\u001b[43m,\u001b[49m\n\u001b[0;32m   1177\u001b[0m \u001b[43m            \u001b[49m\u001b[43mconvert\u001b[49m\u001b[38;5;241;43m=\u001b[39;49m\u001b[38;5;28;43mself\u001b[39;49m\u001b[38;5;241;43m.\u001b[39;49m\u001b[43mconvert_dtype\u001b[49m\u001b[43m,\u001b[49m\n\u001b[0;32m   1178\u001b[0m \u001b[43m        \u001b[49m\u001b[43m)\u001b[49m\n\u001b[0;32m   1180\u001b[0m \u001b[38;5;28;01mif\u001b[39;00m \u001b[38;5;28mlen\u001b[39m(mapped) \u001b[38;5;129;01mand\u001b[39;00m \u001b[38;5;28misinstance\u001b[39m(mapped[\u001b[38;5;241m0\u001b[39m], ABCSeries):\n\u001b[0;32m   1181\u001b[0m     \u001b[38;5;66;03m# GH#43986 Need to do list(mapped) in order to get treated as nested\u001b[39;00m\n\u001b[0;32m   1182\u001b[0m     \u001b[38;5;66;03m#  See also GH#25959 regarding EA support\u001b[39;00m\n\u001b[0;32m   1183\u001b[0m     \u001b[38;5;28;01mreturn\u001b[39;00m obj\u001b[38;5;241m.\u001b[39m_constructor_expanddim(\u001b[38;5;28mlist\u001b[39m(mapped), index\u001b[38;5;241m=\u001b[39mobj\u001b[38;5;241m.\u001b[39mindex)\n",
      "File \u001b[1;32m~\\anaconda3\\lib\\site-packages\\pandas\\_libs\\lib.pyx:2924\u001b[0m, in \u001b[0;36mpandas._libs.lib.map_infer\u001b[1;34m()\u001b[0m\n",
      "Cell \u001b[1;32mIn[49], line 2\u001b[0m, in \u001b[0;36m<lambda>\u001b[1;34m(x)\u001b[0m\n\u001b[0;32m      1\u001b[0m \u001b[38;5;66;03m# Apply the function to 'Asset_Name' column in the 'assets' DataFrame\u001b[39;00m\n\u001b[1;32m----> 2\u001b[0m assets[[\u001b[38;5;124m'\u001b[39m\u001b[38;5;124mBestMatch\u001b[39m\u001b[38;5;124m'\u001b[39m, \u001b[38;5;124m'\u001b[39m\u001b[38;5;124mGICSCode\u001b[39m\u001b[38;5;124m'\u001b[39m, \u001b[38;5;124m'\u001b[39m\u001b[38;5;124mGicSubIndustry\u001b[39m\u001b[38;5;124m'\u001b[39m]] \u001b[38;5;241m=\u001b[39m assets[\u001b[38;5;124m'\u001b[39m\u001b[38;5;124mAsset_Name\u001b[39m\u001b[38;5;124m'\u001b[39m]\u001b[38;5;241m.\u001b[39mapply(\u001b[38;5;28;01mlambda\u001b[39;00m x: pd\u001b[38;5;241m.\u001b[39mSeries(\u001b[43mfind_best_match\u001b[49m\u001b[43m(\u001b[49m\u001b[43mx\u001b[49m\u001b[43m)\u001b[49m))\n\u001b[0;32m      4\u001b[0m \u001b[38;5;66;03m# Drop the 'BestMatch' column if not needed\u001b[39;00m\n\u001b[0;32m      5\u001b[0m assets\u001b[38;5;241m.\u001b[39mdrop(\u001b[38;5;124m'\u001b[39m\u001b[38;5;124mBestMatch\u001b[39m\u001b[38;5;124m'\u001b[39m, axis\u001b[38;5;241m=\u001b[39m\u001b[38;5;241m1\u001b[39m, inplace\u001b[38;5;241m=\u001b[39m\u001b[38;5;28;01mTrue\u001b[39;00m)\n",
      "Cell \u001b[1;32mIn[48], line 3\u001b[0m, in \u001b[0;36mfind_best_match\u001b[1;34m(asset_name)\u001b[0m\n\u001b[0;32m      1\u001b[0m \u001b[38;5;28;01mdef\u001b[39;00m \u001b[38;5;21mfind_best_match\u001b[39m(asset_name):\n\u001b[0;32m      2\u001b[0m     best_match \u001b[38;5;241m=\u001b[39m process\u001b[38;5;241m.\u001b[39mextractOne(asset_name, gic[\u001b[38;5;124m'\u001b[39m\u001b[38;5;124mCompany\u001b[39m\u001b[38;5;124m'\u001b[39m])\n\u001b[1;32m----> 3\u001b[0m     \u001b[38;5;28;01mreturn\u001b[39;00m best_match, \u001b[43mgic\u001b[49m\u001b[38;5;241;43m.\u001b[39;49m\u001b[43mloc\u001b[49m\u001b[43m[\u001b[49m\u001b[43mgic\u001b[49m\u001b[43m[\u001b[49m\u001b[38;5;124;43m'\u001b[39;49m\u001b[38;5;124;43mCompany\u001b[39;49m\u001b[38;5;124;43m'\u001b[39;49m\u001b[43m]\u001b[49m\u001b[43m \u001b[49m\u001b[38;5;241;43m==\u001b[39;49m\u001b[43m \u001b[49m\u001b[43mbest_match\u001b[49m\u001b[43m,\u001b[49m\u001b[43m \u001b[49m\u001b[38;5;124;43m'\u001b[39;49m\u001b[38;5;124;43mGICSCode\u001b[39;49m\u001b[38;5;124;43m'\u001b[39;49m\u001b[43m]\u001b[49m\u001b[38;5;241;43m.\u001b[39;49m\u001b[43mvalues\u001b[49m\u001b[43m[\u001b[49m\u001b[38;5;241;43m0\u001b[39;49m\u001b[43m]\u001b[49m, gic\u001b[38;5;241m.\u001b[39mloc[gic[\u001b[38;5;124m'\u001b[39m\u001b[38;5;124mCompany\u001b[39m\u001b[38;5;124m'\u001b[39m] \u001b[38;5;241m==\u001b[39m best_match, \u001b[38;5;124m'\u001b[39m\u001b[38;5;124mGicSubIndustry\u001b[39m\u001b[38;5;124m'\u001b[39m]\u001b[38;5;241m.\u001b[39mvalues[\u001b[38;5;241m0\u001b[39m]\n",
      "\u001b[1;31mIndexError\u001b[0m: index 0 is out of bounds for axis 0 with size 0"
     ]
    }
   ],
   "source": [
    "# Apply the function to 'Asset_Name' column in the 'assets' DataFrame\n",
    "assets[['BestMatch', 'GICSCode', 'GicSubIndustry']] = assets['Asset_Name'].apply(lambda x: pd.Series(find_best_match(x)))\n",
    "\n",
    "# Drop the 'BestMatch' column if not needed\n",
    "assets.drop('BestMatch', axis=1, inplace=True)\n",
    "\n",
    "# Display the resulting 'assets' DataFrame with GICSCode and GicSubIndustry\n",
    "#print(assets)"
   ]
  },
  {
   "cell_type": "code",
   "execution_count": 67,
   "id": "fb06613b-6176-4a28-8753-7ae6a02b4190",
   "metadata": {},
   "outputs": [],
   "source": [
    "ass = 'MACQUARIE BANK LIMITED'"
   ]
  },
  {
   "cell_type": "code",
   "execution_count": 68,
   "id": "ac67dfbc-f46d-4713-9614-59b2e8e7c3cf",
   "metadata": {},
   "outputs": [],
   "source": [
    "test = process.extractOne(ass, gic['Company'], scorer=fuzz.ratio)"
   ]
  },
  {
   "cell_type": "code",
   "execution_count": 69,
   "id": "6abc0514-333a-41bf-b877-b5dac42cd297",
   "metadata": {},
   "outputs": [
    {
     "data": {
      "text/plain": [
       "('MACQUARIE GROUP LIMITED', 80, 13121)"
      ]
     },
     "execution_count": 69,
     "metadata": {},
     "output_type": "execute_result"
    }
   ],
   "source": [
    "test"
   ]
  },
  {
   "cell_type": "code",
   "execution_count": 70,
   "id": "6de7f1a1-8062-468e-9a02-0440b1f6cadb",
   "metadata": {},
   "outputs": [
    {
     "data": {
      "text/plain": [
       "Stock Ticker                                  4M4\n",
       "Company                   MACQUARIE GROUP LIMITED\n",
       "GICSCode                                 40203020\n",
       "GicSubIndustry     Investment Banking & Brokerage\n",
       "Exchange Ticker                               FRA\n",
       "Exchange Name            Frankfurt Stock Exchange\n",
       "Name: 13121, dtype: object"
      ]
     },
     "execution_count": 70,
     "metadata": {},
     "output_type": "execute_result"
    }
   ],
   "source": [
    "gic.loc[13121]"
   ]
  },
  {
   "cell_type": "code",
   "execution_count": 71,
   "id": "913ebd1e-0bc4-484d-93ef-6c88da9f107c",
   "metadata": {},
   "outputs": [
    {
     "data": {
      "text/plain": [
       "('AUSTRALIAN CRITICAL MINERALS LIMITED',\n",
       " 15104020,\n",
       " 'Diversified Metals & Mining')"
      ]
     },
     "execution_count": 71,
     "metadata": {},
     "output_type": "execute_result"
    }
   ],
   "source": [
    "testing = find_best_match(ass)\n",
    "testing"
   ]
  },
  {
   "cell_type": "code",
   "execution_count": 52,
   "id": "240c7ecf-2d5e-4383-b63e-bb4ec4fba0cf",
   "metadata": {},
   "outputs": [
    {
     "data": {
      "text/html": [
       "<div>\n",
       "<style scoped>\n",
       "    .dataframe tbody tr th:only-of-type {\n",
       "        vertical-align: middle;\n",
       "    }\n",
       "\n",
       "    .dataframe tbody tr th {\n",
       "        vertical-align: top;\n",
       "    }\n",
       "\n",
       "    .dataframe thead th {\n",
       "        text-align: right;\n",
       "    }\n",
       "</style>\n",
       "<table border=\"1\" class=\"dataframe\">\n",
       "  <thead>\n",
       "    <tr style=\"text-align: right;\">\n",
       "      <th></th>\n",
       "      <th>Asset_Name</th>\n",
       "      <th>GICSCode</th>\n",
       "      <th>GicSubIndustry</th>\n",
       "    </tr>\n",
       "  </thead>\n",
       "  <tbody>\n",
       "    <tr>\n",
       "      <th>0</th>\n",
       "      <td>MACQUARIE BANK LIMITED</td>\n",
       "      <td>15104020</td>\n",
       "      <td>Diversified Metals &amp; Mining</td>\n",
       "    </tr>\n",
       "    <tr>\n",
       "      <th>1</th>\n",
       "      <td>MLC BUILDING SOCIETY LTD</td>\n",
       "      <td>55105010</td>\n",
       "      <td>Independent Power Producers &amp; Energy Traders</td>\n",
       "    </tr>\n",
       "    <tr>\n",
       "      <th>2</th>\n",
       "      <td>NATIONAL AUSTRALIA BANK LIMITED</td>\n",
       "      <td>40101010</td>\n",
       "      <td>Diversified Banks</td>\n",
       "    </tr>\n",
       "    <tr>\n",
       "      <th>3</th>\n",
       "      <td>A2 MILK CO LTD</td>\n",
       "      <td>10102050</td>\n",
       "      <td>Coal &amp; Consumable Fuels</td>\n",
       "    </tr>\n",
       "    <tr>\n",
       "      <th>4</th>\n",
       "      <td>ALS LIMITED</td>\n",
       "      <td>20202020</td>\n",
       "      <td>Research &amp; Consulting Services</td>\n",
       "    </tr>\n",
       "    <tr>\n",
       "      <th>5</th>\n",
       "      <td>ALTIUM LTD</td>\n",
       "      <td>45103010</td>\n",
       "      <td>Application Software</td>\n",
       "    </tr>\n",
       "    <tr>\n",
       "      <th>6</th>\n",
       "      <td>AMPOL LTD</td>\n",
       "      <td>10102030</td>\n",
       "      <td>Oil &amp; Gas Refining &amp; Marketing</td>\n",
       "    </tr>\n",
       "    <tr>\n",
       "      <th>7</th>\n",
       "      <td>AUST AND NZ BANKING GROUP DEFERRED DELIVERY</td>\n",
       "      <td>45103010</td>\n",
       "      <td>Application Software</td>\n",
       "    </tr>\n",
       "    <tr>\n",
       "      <th>8</th>\n",
       "      <td>APM HUMAN SERVICES INTERNATI</td>\n",
       "      <td>20202010</td>\n",
       "      <td>Human Resource &amp; Employment Services</td>\n",
       "    </tr>\n",
       "    <tr>\n",
       "      <th>9</th>\n",
       "      <td>ARISTOCRAT LEISURE LTD</td>\n",
       "      <td>25301010</td>\n",
       "      <td>Casinos &amp; Gaming</td>\n",
       "    </tr>\n",
       "  </tbody>\n",
       "</table>\n",
       "</div>"
      ],
      "text/plain": [
       "                                    Asset_Name  GICSCode  \\\n",
       "0                       MACQUARIE BANK LIMITED  15104020   \n",
       "1                     MLC BUILDING SOCIETY LTD  55105010   \n",
       "2              NATIONAL AUSTRALIA BANK LIMITED  40101010   \n",
       "3                               A2 MILK CO LTD  10102050   \n",
       "4                                  ALS LIMITED  20202020   \n",
       "5                                   ALTIUM LTD  45103010   \n",
       "6                                    AMPOL LTD  10102030   \n",
       "7  AUST AND NZ BANKING GROUP DEFERRED DELIVERY  45103010   \n",
       "8                 APM HUMAN SERVICES INTERNATI  20202010   \n",
       "9                       ARISTOCRAT LEISURE LTD  25301010   \n",
       "\n",
       "                                 GicSubIndustry  \n",
       "0                   Diversified Metals & Mining  \n",
       "1  Independent Power Producers & Energy Traders  \n",
       "2                             Diversified Banks  \n",
       "3                       Coal & Consumable Fuels  \n",
       "4                Research & Consulting Services  \n",
       "5                          Application Software  \n",
       "6                Oil & Gas Refining & Marketing  \n",
       "7                          Application Software  \n",
       "8          Human Resource & Employment Services  \n",
       "9                              Casinos & Gaming  "
      ]
     },
     "execution_count": 52,
     "metadata": {},
     "output_type": "execute_result"
    }
   ],
   "source": [
    "assets.head(10)"
   ]
  }
 ],
 "metadata": {
  "kernelspec": {
   "display_name": "Python 3 (ipykernel)",
   "language": "python",
   "name": "python3"
  },
  "language_info": {
   "codemirror_mode": {
    "name": "ipython",
    "version": 3
   },
   "file_extension": ".py",
   "mimetype": "text/x-python",
   "name": "python",
   "nbconvert_exporter": "python",
   "pygments_lexer": "ipython3",
   "version": "3.10.9"
  }
 },
 "nbformat": 4,
 "nbformat_minor": 5
}
