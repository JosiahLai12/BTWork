{
 "cells": [
  {
   "cell_type": "code",
   "execution_count": 4,
   "id": "7c60e253-7a4b-4d19-b5d6-381716d8d299",
   "metadata": {},
   "outputs": [
    {
     "name": "stdout",
     "output_type": "stream",
     "text": [
      "Excel file downloaded and saved as AU_LIST_OF_SYMBOLS.csv; in C:\\Users\\josia\\Documents\\GitHub\\BT\\BTWork\\exchanges.\n"
     ]
    }
   ],
   "source": [
    "import os\n",
    "import requests\n",
    "import pandas as pd\n",
    "\n",
    "\n",
    "def download_excel(exchange, output_folder):\n",
    "    api_url = f\"https://eodhistoricaldata.com/api/exchange-symbol-list/{exchange}?api_token=64e6bb917d6ca7.00493420\"\n",
    "    \n",
    "    try:\n",
    "        response = requests.get(api_url)\n",
    "        response.raise_for_status()  # Check for any request errors\n",
    "        \n",
    "        content_disposition = response.headers.get('content-disposition')\n",
    "        if content_disposition:\n",
    "            filename = content_disposition.split('filename=')[1].replace('\"', '')  # Remove double quotes\n",
    "        else:\n",
    "            filename = f\"{exchange}_data.xlsx\"  # Fallback filename\n",
    "        \n",
    "        output_path = os.path.join(output_folder, filename)\n",
    "        \n",
    "        with open(output_path, 'wb') as excel_file:\n",
    "            excel_file.write(response.content)\n",
    "        \n",
    "        print(f\"Excel file downloaded and saved as {filename} in {output_folder}.\")\n",
    "    except requests.exceptions.RequestException as e:\n",
    "        print(f\"An error occurred: {e}\")\n",
    "\n",
    "download_folder = r\"C:\\Users\\josia\\Documents\\GitHub\\BT\\BTWork\\exchanges\"\n"
   ]
  },
  {
   "cell_type": "code",
   "execution_count": 55,
   "id": "75a7afb3-fa3e-48cb-a0e6-b8bc7252cab3",
   "metadata": {},
   "outputs": [],
   "source": [
    "exchanges_full_list = ['US', 'LSE', 'NEO','V', 'TO', 'BE', 'HM', 'XETRA', 'DU', 'MU', 'F', 'HA', 'STU', 'VI', 'LU', 'PA', 'BR', 'MC', 'SW', 'LS', 'AS', 'ST', 'IR', 'CO', \"OL\", 'IC', 'HE',\n",
    "      'XBOT', 'SEM', 'EGX', 'GSE', 'PR', 'BRVM', 'XNAI', 'BC', 'VFEX', 'MSE', 'XNSA', 'RSE', 'DSE', 'USE', 'LUSE', 'XZIM', 'TA', 'KQ', 'KO', 'BUD', 'WAR', 'PSE', \n",
    "      'JK', 'SHG', 'JSE', 'AT', 'SN', 'BK', 'KAR', 'SR', 'CM', 'VN', 'KLSE', 'BA', 'SA', 'RO', 'MX', 'IL', 'ZSE', 'MCX', 'TWO', 'TW', 'LIM', 'IS', 'AU', 'SHE']\n"
   ]
  },
  {
   "cell_type": "code",
   "execution_count": 56,
   "id": "6f25bd11-28f0-40a0-9d68-f94d5890e633",
   "metadata": {},
   "outputs": [
    {
     "name": "stdout",
     "output_type": "stream",
     "text": [
      "Excel file downloaded and saved as US_LIST_OF_SYMBOLS.csv; in C:\\Users\\josia\\Documents\\GitHub\\BT\\BTWork\\exchanges.\n",
      "Excel file downloaded and saved as LSE_LIST_OF_SYMBOLS.csv; in C:\\Users\\josia\\Documents\\GitHub\\BT\\BTWork\\exchanges.\n",
      "Excel file downloaded and saved as NEO_LIST_OF_SYMBOLS.csv; in C:\\Users\\josia\\Documents\\GitHub\\BT\\BTWork\\exchanges.\n",
      "Excel file downloaded and saved as V_LIST_OF_SYMBOLS.csv; in C:\\Users\\josia\\Documents\\GitHub\\BT\\BTWork\\exchanges.\n",
      "Excel file downloaded and saved as TO_LIST_OF_SYMBOLS.csv; in C:\\Users\\josia\\Documents\\GitHub\\BT\\BTWork\\exchanges.\n",
      "Excel file downloaded and saved as BE_LIST_OF_SYMBOLS.csv; in C:\\Users\\josia\\Documents\\GitHub\\BT\\BTWork\\exchanges.\n",
      "Excel file downloaded and saved as HM_LIST_OF_SYMBOLS.csv; in C:\\Users\\josia\\Documents\\GitHub\\BT\\BTWork\\exchanges.\n",
      "Excel file downloaded and saved as XETRA_LIST_OF_SYMBOLS.csv; in C:\\Users\\josia\\Documents\\GitHub\\BT\\BTWork\\exchanges.\n",
      "Excel file downloaded and saved as DU_LIST_OF_SYMBOLS.csv; in C:\\Users\\josia\\Documents\\GitHub\\BT\\BTWork\\exchanges.\n",
      "Excel file downloaded and saved as MU_LIST_OF_SYMBOLS.csv; in C:\\Users\\josia\\Documents\\GitHub\\BT\\BTWork\\exchanges.\n",
      "Excel file downloaded and saved as F_LIST_OF_SYMBOLS.csv; in C:\\Users\\josia\\Documents\\GitHub\\BT\\BTWork\\exchanges.\n",
      "Excel file downloaded and saved as HA_LIST_OF_SYMBOLS.csv; in C:\\Users\\josia\\Documents\\GitHub\\BT\\BTWork\\exchanges.\n",
      "Excel file downloaded and saved as STU_LIST_OF_SYMBOLS.csv; in C:\\Users\\josia\\Documents\\GitHub\\BT\\BTWork\\exchanges.\n",
      "Excel file downloaded and saved as VI_LIST_OF_SYMBOLS.csv; in C:\\Users\\josia\\Documents\\GitHub\\BT\\BTWork\\exchanges.\n",
      "Excel file downloaded and saved as LU_LIST_OF_SYMBOLS.csv; in C:\\Users\\josia\\Documents\\GitHub\\BT\\BTWork\\exchanges.\n",
      "Excel file downloaded and saved as PA_LIST_OF_SYMBOLS.csv; in C:\\Users\\josia\\Documents\\GitHub\\BT\\BTWork\\exchanges.\n",
      "Excel file downloaded and saved as BR_LIST_OF_SYMBOLS.csv; in C:\\Users\\josia\\Documents\\GitHub\\BT\\BTWork\\exchanges.\n",
      "Excel file downloaded and saved as MC_LIST_OF_SYMBOLS.csv; in C:\\Users\\josia\\Documents\\GitHub\\BT\\BTWork\\exchanges.\n",
      "Excel file downloaded and saved as SW_LIST_OF_SYMBOLS.csv; in C:\\Users\\josia\\Documents\\GitHub\\BT\\BTWork\\exchanges.\n",
      "Excel file downloaded and saved as LS_LIST_OF_SYMBOLS.csv; in C:\\Users\\josia\\Documents\\GitHub\\BT\\BTWork\\exchanges.\n",
      "Excel file downloaded and saved as AS_LIST_OF_SYMBOLS.csv; in C:\\Users\\josia\\Documents\\GitHub\\BT\\BTWork\\exchanges.\n",
      "Excel file downloaded and saved as ST_LIST_OF_SYMBOLS.csv; in C:\\Users\\josia\\Documents\\GitHub\\BT\\BTWork\\exchanges.\n",
      "Excel file downloaded and saved as IR_LIST_OF_SYMBOLS.csv; in C:\\Users\\josia\\Documents\\GitHub\\BT\\BTWork\\exchanges.\n",
      "Excel file downloaded and saved as CO_LIST_OF_SYMBOLS.csv; in C:\\Users\\josia\\Documents\\GitHub\\BT\\BTWork\\exchanges.\n",
      "Excel file downloaded and saved as OL_LIST_OF_SYMBOLS.csv; in C:\\Users\\josia\\Documents\\GitHub\\BT\\BTWork\\exchanges.\n",
      "Excel file downloaded and saved as IC_LIST_OF_SYMBOLS.csv; in C:\\Users\\josia\\Documents\\GitHub\\BT\\BTWork\\exchanges.\n",
      "Excel file downloaded and saved as HE_LIST_OF_SYMBOLS.csv; in C:\\Users\\josia\\Documents\\GitHub\\BT\\BTWork\\exchanges.\n",
      "Excel file downloaded and saved as XBOT_LIST_OF_SYMBOLS.csv; in C:\\Users\\josia\\Documents\\GitHub\\BT\\BTWork\\exchanges.\n",
      "Excel file downloaded and saved as SEM_LIST_OF_SYMBOLS.csv; in C:\\Users\\josia\\Documents\\GitHub\\BT\\BTWork\\exchanges.\n",
      "Excel file downloaded and saved as EGX_LIST_OF_SYMBOLS.csv; in C:\\Users\\josia\\Documents\\GitHub\\BT\\BTWork\\exchanges.\n",
      "Excel file downloaded and saved as GSE_LIST_OF_SYMBOLS.csv; in C:\\Users\\josia\\Documents\\GitHub\\BT\\BTWork\\exchanges.\n",
      "Excel file downloaded and saved as PR_LIST_OF_SYMBOLS.csv; in C:\\Users\\josia\\Documents\\GitHub\\BT\\BTWork\\exchanges.\n",
      "Excel file downloaded and saved as BRVM_LIST_OF_SYMBOLS.csv; in C:\\Users\\josia\\Documents\\GitHub\\BT\\BTWork\\exchanges.\n",
      "Excel file downloaded and saved as XNAI_LIST_OF_SYMBOLS.csv; in C:\\Users\\josia\\Documents\\GitHub\\BT\\BTWork\\exchanges.\n",
      "Excel file downloaded and saved as BC_LIST_OF_SYMBOLS.csv; in C:\\Users\\josia\\Documents\\GitHub\\BT\\BTWork\\exchanges.\n",
      "Excel file downloaded and saved as VFEX_LIST_OF_SYMBOLS.csv; in C:\\Users\\josia\\Documents\\GitHub\\BT\\BTWork\\exchanges.\n",
      "Excel file downloaded and saved as MSE_LIST_OF_SYMBOLS.csv; in C:\\Users\\josia\\Documents\\GitHub\\BT\\BTWork\\exchanges.\n",
      "Excel file downloaded and saved as XNSA_LIST_OF_SYMBOLS.csv; in C:\\Users\\josia\\Documents\\GitHub\\BT\\BTWork\\exchanges.\n",
      "Excel file downloaded and saved as RSE_LIST_OF_SYMBOLS.csv; in C:\\Users\\josia\\Documents\\GitHub\\BT\\BTWork\\exchanges.\n",
      "Excel file downloaded and saved as DSE_LIST_OF_SYMBOLS.csv; in C:\\Users\\josia\\Documents\\GitHub\\BT\\BTWork\\exchanges.\n",
      "Excel file downloaded and saved as USE_LIST_OF_SYMBOLS.csv; in C:\\Users\\josia\\Documents\\GitHub\\BT\\BTWork\\exchanges.\n",
      "Excel file downloaded and saved as LUSE_LIST_OF_SYMBOLS.csv; in C:\\Users\\josia\\Documents\\GitHub\\BT\\BTWork\\exchanges.\n",
      "Excel file downloaded and saved as XZIM_LIST_OF_SYMBOLS.csv; in C:\\Users\\josia\\Documents\\GitHub\\BT\\BTWork\\exchanges.\n",
      "Excel file downloaded and saved as TA_LIST_OF_SYMBOLS.csv; in C:\\Users\\josia\\Documents\\GitHub\\BT\\BTWork\\exchanges.\n",
      "Excel file downloaded and saved as KQ_LIST_OF_SYMBOLS.csv; in C:\\Users\\josia\\Documents\\GitHub\\BT\\BTWork\\exchanges.\n",
      "Excel file downloaded and saved as KO_LIST_OF_SYMBOLS.csv; in C:\\Users\\josia\\Documents\\GitHub\\BT\\BTWork\\exchanges.\n",
      "Excel file downloaded and saved as BUD_LIST_OF_SYMBOLS.csv; in C:\\Users\\josia\\Documents\\GitHub\\BT\\BTWork\\exchanges.\n",
      "Excel file downloaded and saved as WAR_LIST_OF_SYMBOLS.csv; in C:\\Users\\josia\\Documents\\GitHub\\BT\\BTWork\\exchanges.\n",
      "Excel file downloaded and saved as PSE_LIST_OF_SYMBOLS.csv; in C:\\Users\\josia\\Documents\\GitHub\\BT\\BTWork\\exchanges.\n",
      "Excel file downloaded and saved as JK_LIST_OF_SYMBOLS.csv; in C:\\Users\\josia\\Documents\\GitHub\\BT\\BTWork\\exchanges.\n",
      "Excel file downloaded and saved as SHG_LIST_OF_SYMBOLS.csv; in C:\\Users\\josia\\Documents\\GitHub\\BT\\BTWork\\exchanges.\n",
      "Excel file downloaded and saved as JSE_LIST_OF_SYMBOLS.csv; in C:\\Users\\josia\\Documents\\GitHub\\BT\\BTWork\\exchanges.\n",
      "Excel file downloaded and saved as AT_LIST_OF_SYMBOLS.csv; in C:\\Users\\josia\\Documents\\GitHub\\BT\\BTWork\\exchanges.\n",
      "Excel file downloaded and saved as SN_LIST_OF_SYMBOLS.csv; in C:\\Users\\josia\\Documents\\GitHub\\BT\\BTWork\\exchanges.\n",
      "Excel file downloaded and saved as BK_LIST_OF_SYMBOLS.csv; in C:\\Users\\josia\\Documents\\GitHub\\BT\\BTWork\\exchanges.\n",
      "Excel file downloaded and saved as KAR_LIST_OF_SYMBOLS.csv; in C:\\Users\\josia\\Documents\\GitHub\\BT\\BTWork\\exchanges.\n",
      "Excel file downloaded and saved as SR_LIST_OF_SYMBOLS.csv; in C:\\Users\\josia\\Documents\\GitHub\\BT\\BTWork\\exchanges.\n",
      "Excel file downloaded and saved as CM_LIST_OF_SYMBOLS.csv; in C:\\Users\\josia\\Documents\\GitHub\\BT\\BTWork\\exchanges.\n",
      "Excel file downloaded and saved as VN_LIST_OF_SYMBOLS.csv; in C:\\Users\\josia\\Documents\\GitHub\\BT\\BTWork\\exchanges.\n",
      "Excel file downloaded and saved as KLSE_LIST_OF_SYMBOLS.csv; in C:\\Users\\josia\\Documents\\GitHub\\BT\\BTWork\\exchanges.\n",
      "Excel file downloaded and saved as BA_LIST_OF_SYMBOLS.csv; in C:\\Users\\josia\\Documents\\GitHub\\BT\\BTWork\\exchanges.\n",
      "Excel file downloaded and saved as SA_LIST_OF_SYMBOLS.csv; in C:\\Users\\josia\\Documents\\GitHub\\BT\\BTWork\\exchanges.\n",
      "Excel file downloaded and saved as RO_LIST_OF_SYMBOLS.csv; in C:\\Users\\josia\\Documents\\GitHub\\BT\\BTWork\\exchanges.\n",
      "Excel file downloaded and saved as MX_LIST_OF_SYMBOLS.csv; in C:\\Users\\josia\\Documents\\GitHub\\BT\\BTWork\\exchanges.\n",
      "Excel file downloaded and saved as IL_LIST_OF_SYMBOLS.csv; in C:\\Users\\josia\\Documents\\GitHub\\BT\\BTWork\\exchanges.\n",
      "Excel file downloaded and saved as ZSE_LIST_OF_SYMBOLS.csv; in C:\\Users\\josia\\Documents\\GitHub\\BT\\BTWork\\exchanges.\n",
      "Excel file downloaded and saved as MCX_LIST_OF_SYMBOLS.csv; in C:\\Users\\josia\\Documents\\GitHub\\BT\\BTWork\\exchanges.\n",
      "Excel file downloaded and saved as TWO_LIST_OF_SYMBOLS.csv; in C:\\Users\\josia\\Documents\\GitHub\\BT\\BTWork\\exchanges.\n",
      "Excel file downloaded and saved as TW_LIST_OF_SYMBOLS.csv; in C:\\Users\\josia\\Documents\\GitHub\\BT\\BTWork\\exchanges.\n",
      "Excel file downloaded and saved as LIM_LIST_OF_SYMBOLS.csv; in C:\\Users\\josia\\Documents\\GitHub\\BT\\BTWork\\exchanges.\n",
      "Excel file downloaded and saved as IS_LIST_OF_SYMBOLS.csv; in C:\\Users\\josia\\Documents\\GitHub\\BT\\BTWork\\exchanges.\n",
      "Excel file downloaded and saved as AU_LIST_OF_SYMBOLS.csv; in C:\\Users\\josia\\Documents\\GitHub\\BT\\BTWork\\exchanges.\n",
      "Excel file downloaded and saved as SHE_LIST_OF_SYMBOLS.csv; in C:\\Users\\josia\\Documents\\GitHub\\BT\\BTWork\\exchanges.\n"
     ]
    }
   ],
   "source": [
    "dataframes = {}\n",
    "excluded = ['FUND', 'ETF', 'ETC', 'Mutual Fund', 'Note']\n",
    "\n",
    "for i in exchanges_full_list:\n",
    "    \n",
    "    download_excel(i, download_folder)\n",
    "    file_name = f\"{i}_LIST_OF_SYMBOLS.csv;\"\n",
    "    \n",
    "    df = pd.read_csv(f\"exchanges/{file_name}\", dtype=str)    \n",
    "    df = df[~df['Type'].isin(excluded)]\n",
    "    dataframes[file_name] = df"
   ]
  }
 ],
 "metadata": {
  "kernelspec": {
   "display_name": "Python 3 (ipykernel)",
   "language": "python",
   "name": "python3"
  },
  "language_info": {
   "codemirror_mode": {
    "name": "ipython",
    "version": 3
   },
   "file_extension": ".py",
   "mimetype": "text/x-python",
   "name": "python",
   "nbconvert_exporter": "python",
   "pygments_lexer": "ipython3",
   "version": "3.10.9"
  }
 },
 "nbformat": 4,
 "nbformat_minor": 5
}
