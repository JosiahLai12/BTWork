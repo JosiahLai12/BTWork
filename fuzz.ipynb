{
 "cells": [
  {
   "cell_type": "code",
   "execution_count": 3,
   "id": "49438780-6864-4fee-9f70-75c948e2c7d0",
   "metadata": {},
   "outputs": [
    {
     "name": "stdout",
     "output_type": "stream",
     "text": [
      "Collecting fuzzywuzzyNote: you may need to restart the kernel to use updated packages.\n",
      "\n",
      "  Downloading fuzzywuzzy-0.18.0-py2.py3-none-any.whl (18 kB)\n",
      "Installing collected packages: fuzzywuzzy\n",
      "Successfully installed fuzzywuzzy-0.18.0\n"
     ]
    }
   ],
   "source": [
    "pip install fuzzywuzzy"
   ]
  },
  {
   "cell_type": "code",
   "execution_count": 5,
   "id": "736a7753-4e11-429f-b4dd-32c5dc26b285",
   "metadata": {},
   "outputs": [
    {
     "name": "stdout",
     "output_type": "stream",
     "text": [
      "Collecting python-Levenshtein\n",
      "  Downloading python_Levenshtein-0.21.1-py3-none-any.whl (9.4 kB)\n",
      "Collecting Levenshtein==0.21.1\n",
      "  Downloading Levenshtein-0.21.1-cp310-cp310-win_amd64.whl (100 kB)\n",
      "     -------------------------------------- 101.0/101.0 kB 6.0 MB/s eta 0:00:00\n",
      "Collecting rapidfuzz<4.0.0,>=2.3.0\n",
      "  Downloading rapidfuzz-3.3.0-cp310-cp310-win_amd64.whl (1.8 MB)\n",
      "     ---------------------------------------- 1.8/1.8 MB 12.9 MB/s eta 0:00:00\n",
      "Installing collected packages: rapidfuzz, Levenshtein, python-Levenshtein\n",
      "Successfully installed Levenshtein-0.21.1 python-Levenshtein-0.21.1 rapidfuzz-3.3.0\n",
      "Note: you may need to restart the kernel to use updated packages.\n"
     ]
    }
   ],
   "source": [
    "pip install python-Levenshtein"
   ]
  },
  {
   "cell_type": "code",
   "execution_count": 16,
   "id": "9decce33-8027-4aeb-a62f-7ee31ea543e9",
   "metadata": {},
   "outputs": [
    {
     "name": "stdout",
     "output_type": "stream",
     "text": [
      "Similarity score: 80\n"
     ]
    }
   ],
   "source": [
    "\n",
    "from fuzzywuzzy import fuzz\n",
    "\n",
    "string1 = \"MACQUARIE BANK LIMITED\"\n",
    "string2 = \"MACQUARIE GROUP LIMITED\"\n",
    "\n",
    "similarity_score = fuzz.ratio(string1, string2)\n",
    "print(\"Similarity score:\", similarity_score)"
   ]
  },
  {
   "cell_type": "code",
   "execution_count": 20,
   "id": "50f9a4c6-2b3c-45a3-b375-b026cf48c03e",
   "metadata": {},
   "outputs": [
    {
     "name": "stdout",
     "output_type": "stream",
     "text": [
      "Similarity score: 85\n"
     ]
    }
   ],
   "source": [
    "\n",
    "\n",
    "string1 = \"A2 MILK COMPANY LTD\"\n",
    "string2 = \"A2 MILK CO LTD\"\n",
    "\n",
    "similarity_score = fuzz.ratio(string1, string2)\n",
    "print(\"Similarity score:\", similarity_score)"
   ]
  },
  {
   "cell_type": "code",
   "execution_count": 24,
   "id": "294e0297-0932-41c5-82a4-f3428ab3cffd",
   "metadata": {},
   "outputs": [
    {
     "name": "stdout",
     "output_type": "stream",
     "text": [
      "Levenshtein distance: 5\n"
     ]
    }
   ],
   "source": [
    "import Levenshtein\n",
    "\n",
    "# Calculate the Levenshtein distance between two strings\n",
    "distance = Levenshtein.distance(\"A2 MILK COMPANY LTD\", \"A2 MILK CO LTD\")\n",
    "print(\"Levenshtein distance:\", distance)\n"
   ]
  }
 ],
 "metadata": {
  "kernelspec": {
   "display_name": "Python 3 (ipykernel)",
   "language": "python",
   "name": "python3"
  },
  "language_info": {
   "codemirror_mode": {
    "name": "ipython",
    "version": 3
   },
   "file_extension": ".py",
   "mimetype": "text/x-python",
   "name": "python",
   "nbconvert_exporter": "python",
   "pygments_lexer": "ipython3",
   "version": "3.10.9"
  }
 },
 "nbformat": 4,
 "nbformat_minor": 5
}
